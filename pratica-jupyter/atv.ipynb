{
 "cells": [
  {
   "cell_type": "markdown",
   "metadata": {},
   "source": [
    "### Cinemática Inversa Aplicada"
   ]
  },
  {
   "cell_type": "markdown",
   "metadata": {},
   "source": [
    "A metodologia básica para encontrar as equações que descrevem a cinemática direta e inversa do sistema segue os passos abaixo.\n",
    "\n",
    "<br>\n",
    "\n",
    "<center>\n",
    "\n",
    "<img src=\"esquematico.png\" alt=\"braco planar\"/>\n",
    "\n",
    "</center>\n",
    "\n",
    "<br>\n",
    "\n",
    "A atividade abaixo irá aplicar está metodologia em um manipulador simples."
   ]
  },
  {
   "cell_type": "markdown",
   "metadata": {},
   "source": [
    "A *Figura 1* mostra um braço planar de três elos. Como todas as três juntas são rotacionais, esse manipulador é às vezes chamado de **mecanismo RRR** (ou **3R**).\n",
    "\n",
    "<center>\n",
    "\n",
    "<img src=\"cinematica-fig1.png\" alt=\"braco planar\" style=\"height: 250px; width:250px;\"/>\n",
    "\n",
    "Figura 1 - Braço planar de três elos\n",
    "</center>\n",
    "\n",
    "\n",
    "                           \n",
    "A Figura 2 é uma representação esquemática do mesmo manipulador. Observe as marcas com traços duplos em cada um dos três eixos, indicando que eles são paralelos.\n",
    "\n",
    "<center>\n",
    "\n",
    "<img src=\"cinematica-fig2.png\" alt=\"braco planar\" style=\"height: 250px; width:250px;\"/>\n",
    "\n",
    "Figura 2 - Braço planar: Notação esquemática simples\n",
    "</center>\n",
    "\n",
    "\n",
    "\n",
    "**Objetivo: Encontrar as equações cinématicas para as juntas do sistema.**"
   ]
  },
  {
   "cell_type": "markdown",
   "metadata": {},
   "source": [
    "## Atribuir sistemas de referência aos elos do mecanismo"
   ]
  },
  {
   "cell_type": "markdown",
   "metadata": {},
   "source": [
    "O primeiro passo é definir o sistema de referência fixo, o sistema de referência {0}. Perceba que ele é fixo na base e se alinha com o sistema de referência {1} quando a primeira variável de junta ($\\theta_{1}$) é zero. E, todas as juntas são rotacionais, de forma que quando estão em zero grau, todos os eixos $\\hat{X}$ têm de se alinhar. \n",
    "\n",
    "Esboce os outros sistemas de referências do sistema na atividade abaixo."
   ]
  },
  {
   "cell_type": "markdown",
   "metadata": {},
   "source": [
    "### <span style=\"color:green\">Tarefa 01 </span>"
   ]
  },
  {
   "cell_type": "markdown",
   "metadata": {},
   "source": [
    "Atribuir sistemas de referência para o sistema abaixo. Execute o código, uma janela será aberta onde você deverá desenhar os sistemas de referência. Depois compare a sua solução com a resposta disponibilizada abaixo."
   ]
  },
  {
   "cell_type": "code",
   "execution_count": null,
   "metadata": {},
   "outputs": [],
   "source": [
    "# Draw interface\n",
    "from tkinter import *\n",
    "from tkinter import ttk, colorchooser\n",
    "from tkinter import filedialog\n",
    "from PIL import ImageTk, Image\n",
    "import tkinter as tk\n",
    "\n",
    "\n",
    "class main:\n",
    "    def __init__(self,master):\n",
    "        self.master = master\n",
    "        self.color_fg = 'black'\n",
    "        self.color_bg = 'white'\n",
    "        self.old_x = None\n",
    "        self.old_y = None\n",
    "        self.penwidth = 5\n",
    "        self.drawWidgets()\n",
    "        self.c.bind('<B1-Motion>',self.paint)#drwaing the line \n",
    "        self.c.bind('<ButtonRelease-1>',self.reset)\n",
    "\n",
    "    def paint(self,e):\n",
    "        if self.old_x and self.old_y:\n",
    "            self.c.create_line(self.old_x,self.old_y,e.x,e.y,width=self.penwidth,fill=self.color_fg,capstyle=ROUND,smooth=True)\n",
    "\n",
    "        self.old_x = e.x\n",
    "        self.old_y = e.y\n",
    "\n",
    "    def reset(self,e):    #reseting or cleaning the canvas \n",
    "        self.old_x = None\n",
    "        self.old_y = None      \n",
    "\n",
    "    def changeW(self,e): #change Width of pen through slider\n",
    "        self.penwidth = e\n",
    "           \n",
    "\n",
    "    def clear(self):\n",
    "        self.c.delete(ALL)\n",
    "\n",
    "    def change_fg(self):  #changing the pen color\n",
    "        self.color_fg=colorchooser.askcolor(color=self.color_fg)[1]\n",
    "\n",
    "    def change_bg(self):  #changing the background color canvas\n",
    "        self.color_bg=colorchooser.askcolor(color=self.color_bg)[1]\n",
    "        self.c['bg'] = self.color_bg\n",
    "\n",
    "    def drawWidgets(self):\n",
    "        self.controls = Frame(self.master,padx = 5,pady = 5)\n",
    "        Label(self.controls, text='Pen Width:',font=('arial 18')).grid(row=0,column=0)\n",
    "        self.slider = ttk.Scale(self.controls,from_= 5, to = 100,command=self.changeW,orient=VERTICAL)\n",
    "        self.slider.set(self.penwidth)\n",
    "        self.slider.grid(row=0,column=1,ipadx=30)\n",
    "        self.controls.pack(side=LEFT)\n",
    "        \n",
    "        self.c = Canvas(self.master,width=500,height=400,bg=self.color_bg,)\n",
    "        self.c.pack(fill=BOTH,expand=True)\n",
    "\n",
    "        menu = Menu(self.master)\n",
    "        self.master.config(menu=menu)\n",
    "        filemenu = Menu(menu)\n",
    "        colormenu = Menu(menu)\n",
    "        menu.add_cascade(label='Colors',menu=colormenu)\n",
    "        colormenu.add_command(label='Brush Color',command=self.change_fg)\n",
    "        colormenu.add_command(label='Background Color',command=self.change_bg)\n",
    "        optionmenu = Menu(menu)\n",
    "        menu.add_cascade(label='Options',menu=optionmenu)\n",
    "        optionmenu.add_command(label='Clear Canvas',command=self.clear)\n",
    "        optionmenu.add_command(label='Exit',command=self.master.destroy) \n",
    "\n",
    "\n",
    "if __name__ == '__main__':\n",
    "    root = Tk()\n",
    "    main(root)\n",
    "    root.title('Application')\n",
    "    img = PhotoImage(file=\"braco-planar-3dof.png\")\n",
    "    label = Label(\n",
    "    root,\n",
    "    image=img\n",
    ")\n",
    "    panel = Label(root, image = img)\n",
    "    panel.pack(side = \"right\", fill = \"none\", expand = \"yes\")\n",
    "    # label.place(x=0, y=0)\n",
    "    root.mainloop()"
   ]
  },
  {
   "cell_type": "markdown",
   "metadata": {},
   "source": [
    "###  <span style=\"color:red\">Resposta </span>"
   ]
  },
  {
   "cell_type": "markdown",
   "metadata": {},
   "source": [
    "<center>\n",
    "\n",
    "<img src=\"manipulador-esquematico-simples.png\" alt=\"braco planar\" style=\"height: 250px; width:250px;\"/>\n",
    "\n",
    "Figura 2 - Braço planar: Notação esquemática simples\n",
    "</center>"
   ]
  },
  {
   "cell_type": "markdown",
   "metadata": {},
   "source": [
    "Começamos definindo o sistema de referência fixo, o sistema de referência {0}. Ele é fixo na\n",
    "base e se alinha com o sistema de referência {1} quando a primeira variável de junta ($ \\theta_{1} $) é zero.\n",
    "\n",
    "<center>\n",
    "\n",
    "<img src=\"braco-planar-3dof.png\" alt=\"braco planar\" style=\"height: 250px; width:250px;\"/>\n",
    "\n",
    "Figura 3 - Atribuição de sistemas de referência a elos.\n",
    "</center>\n",
    "\n",
    "Portanto, posicionamos o sistema de referência {0} como mostra na Figura 3, com $ Ẑ_{0} $ alinhado\n",
    "com o eixo de junta-1. Para esse braço, todos os eixos de junta são orientados de modo perpendicular ao plano do braço. \n",
    "\n",
    "Todas as juntas são rotacionais, de forma que quando\n",
    "estão em zero grau, todos os eixos $\\hat{X}$ têm de se alinhar.\n",
    "\n",
    "Com isso em mente, é fácil encontrar as atribuições de sistema de referência mostradas na Figura 3. "
   ]
  },
  {
   "cell_type": "markdown",
   "metadata": {},
   "source": [
    "## Indicar os parâmetros de Denavit-Hartenberg"
   ]
  },
  {
   "cell_type": "markdown",
   "metadata": {},
   "source": [
    "Os parâmetros de elo são definidos da seguinte maneira:\n",
    "\n",
    "$ a_{i} \\rightarrow$ a distância de $\\hat{Z}_i$ a $\\hat{Z}_{i+1}$ medida ao longo de $\\hat{X}_i$;\n",
    "\n",
    "$ \\alpha_{i} \\rightarrow$ o ângulo de $\\hat{Z}_i$ a $\\hat{Z}_{i+1}$ medida ao longo de $\\hat{X}_i$;\n",
    "\n",
    "$ d_{i} \\rightarrow$ a distância de $\\hat{X}_{i-1}$ a $\\hat{X}_{i}$ medida ao longo de $\\hat{Z}_i$;\n",
    "\n",
    "$ \\theta_{i} \\rightarrow$ o ângulo de $\\hat{X}_{i-1}$ a $\\hat{X}_{i}$ medida ao longo de $\\hat{Z}_i$.\n",
    "\n",
    "\n",
    "\n",
    "<center>\n",
    "\n",
    "<img src=\"DH.png\" alt=\"braco planar\"/>\n",
    "\n",
    "Figura 3 - Atribuição de sistemas de referência a elos.\n",
    "</center>\n",
    "\n",
    "\n",
    "\n",
    "A tabela para este problema possui o seguinte formato:\n",
    "<center>\n",
    "\n",
    "| $ i $ | $\\alpha_{i-1}$ |$a_{i-1} $ | $d_i$  |$\\theta_i$ |\n",
    "|:-----:|:--------------:|:---------:|:------:|:---------:|\n",
    "|   1   |         0      |0          |   0    |$\\theta_1$ |              \n",
    "|   2   |         0      | $L_{1}$   |   0    |$\\theta_2$ |               \n",
    "|   3   |         0      |  $L_{2}$  |   0    |$\\theta_3$ |   \n",
    "       \n",
    "</center>"
   ]
  },
  {
   "cell_type": "markdown",
   "metadata": {},
   "source": [
    "## Realizar a transformação de referência"
   ]
  },
  {
   "cell_type": "markdown",
   "metadata": {},
   "source": [
    "Uma vez que os sistemas de referência dos elos tenham sido definidos e os parâmetros de elos correspondentes encontrados, o desenvolvimento das equações cinemáticas é direto.\n",
    "\n",
    "Para representar sistemas de referência, utilizamos a matriz de transformação homogênea, a qual é uma matriz 4 × 4 contendo informação de orientação e posição, utilizando os quatro parâmetros dos elos de Denavit-Hartenberg.\n",
    "\n",
    "$$ \n",
    "_{i}^{i-1}\\textrm{T} = \n",
    "\\begin{bmatrix} \n",
    "  c\\theta_{i}  & -s\\theta_{i} & 0 & a_{i-1} \\\\ \n",
    "  s\\theta_{i}c\\alpha_{i-1}  & c\\theta_{i}c\\alpha_{i-1} & -s\\alpha_{i-1} & -s\\alpha_{i-1}d_{i}  \\\\  \n",
    "  s\\theta_{i}s\\alpha_{i-1}  & c\\theta_{i}s\\alpha_{i-1} & c\\alpha_{i-1} & c\\alpha_{i-1}d_{i}  \\\\\n",
    "  0  & 0 & 0 & 1  \n",
    "\\end{bmatrix} \n",
    "$$\n",
    "\n",
    "\n",
    "$ _{i}^{i-1}\\textrm{T}$ corresponde a transformação que define o sistema de referência {$i$} em relação ao sistema de referência {$i – 1$}.\n",
    "\n",
    "Assim, com base nos parâmetros de elos, as matrizes das transformações individuais dos elos podem ser calculadas.\n",
    "\n",
    "Em seguida, essas transformações podem ser multiplicadas juntas para encontrar a transformação isolada que relaciona o sistema de referência {*N*} ao sistema de referência {*0*}:\n",
    "\n",
    "<center>\n",
    "\n",
    "$_{N}^{0}\\textrm{T} = _{1}^{0}\\textrm{T}_{2}^{1}\\textrm{T}_{3}^{2}\\textrm{T}..._{N}^{N-1}\\textrm{T} $\n",
    "\n",
    "</center>"
   ]
  },
  {
   "cell_type": "markdown",
   "metadata": {},
   "source": [
    "##### <span style=\"color:green\">Tarefa 06 </span>"
   ]
  },
  {
   "cell_type": "markdown",
   "metadata": {},
   "source": [
    "Defina as matrizes individuais de cada um dos elos."
   ]
  },
  {
   "cell_type": "code",
   "execution_count": 14,
   "metadata": {},
   "outputs": [
    {
     "data": {
      "text/latex": [
       "$\\displaystyle \\left[\\begin{matrix}\\cos{\\left(\\theta_{1} \\right)} & - \\sin{\\left(\\theta_{1} \\right)} & 0 & 0\\\\\\sin{\\left(\\theta_{1} \\right)} & \\cos{\\left(\\theta_{1} \\right)} & 0 & 0\\\\0 & 0 & 1 & 0\\\\0 & 0 & 0 & 1\\end{matrix}\\right]$"
      ],
      "text/plain": [
       "Matrix([\n",
       "[cos(theta1), -sin(theta1), 0, 0],\n",
       "[sin(theta1),  cos(theta1), 0, 0],\n",
       "[          0,            0, 1, 0],\n",
       "[          0,            0, 0, 1]])"
      ]
     },
     "execution_count": 14,
     "metadata": {},
     "output_type": "execute_result"
    }
   ],
   "source": [
    "# Bibliotecas python auxiliares\n",
    "\n",
    "import sympy as sp\n",
    "import math as mt\n",
    "import numpy as np\n",
    "import scipy.linalg as la\n",
    "\n",
    "from sympy.physics.vector import init_vprinting\n",
    "init_vprinting(use_latex='mathjax', pretty_print=False)\n",
    "\n",
    "from sympy.physics.mechanics import dynamicsymbols\n",
    "\n",
    "theta1, theta2, theta3, l1, l2, theta, alpha, a, d, X1, X2, X3, L1, L2, k1, k2, k3, k4 = dynamicsymbols('theta1 theta2 theta3 l1 l2 theta alpha a d X1 X2 X3 L1 L2 k1 k2 k3 k4')\n",
    "theta1, theta2, theta3, l1, l2, theta, alpha, a, d, X1, X2, X3, L1, L2, k1, k2, k3, k4\n",
    "\n",
    "# As variáveis para o sistema são: L1, L2 sp.cos(theta1), sp.sin(theta1), sp.cos(theta2), sp.sin(theta2), \n",
    "#                                  sp.cos(theta3), sp.sin(theta3), 0, 1\n",
    "\n",
    "# Nos espaços abaixo preencha com os dados das matrizes correspondentes aos elos.\n",
    "\n",
    "T01 = sp.Matrix([[sp.cos(theta1), -sp.sin(theta1), 0, 0], [sp.sin(theta1), sp.cos(theta1), 0, 0], [0, 0, 1, 0], [0, 0, 0, 1]])\n",
    "\n",
    "T01"
   ]
  },
  {
   "cell_type": "code",
   "execution_count": 15,
   "metadata": {},
   "outputs": [
    {
     "data": {
      "text/latex": [
       "$\\displaystyle \\left[\\begin{matrix}\\cos{\\left(\\theta_{2} \\right)} & - \\sin{\\left(\\theta_{2} \\right)} & 0 & L_{1}\\\\\\sin{\\left(\\theta_{2} \\right)} & \\cos{\\left(\\theta_{2} \\right)} & 0 & 0\\\\0 & 0 & 1 & 0\\\\0 & 0 & 0 & 1\\end{matrix}\\right]$"
      ],
      "text/plain": [
       "Matrix([\n",
       "[cos(theta2), -sin(theta2), 0, L1],\n",
       "[sin(theta2),  cos(theta2), 0,  0],\n",
       "[          0,            0, 1,  0],\n",
       "[          0,            0, 0,  1]])"
      ]
     },
     "execution_count": 15,
     "metadata": {},
     "output_type": "execute_result"
    }
   ],
   "source": [
    "# Nos espaços abaixo preencha com os dados das matrizes correspondentes aos elos.\n",
    "\n",
    "T12 = sp.Matrix([[sp.cos(theta2), -sp.sin(theta2), 0, L1], [sp.sin(theta2), sp.cos(theta2), 0, 0], [0, 0, 1, 0], [0, 0, 0, 1]])\n",
    "\n",
    "T12"
   ]
  },
  {
   "cell_type": "code",
   "execution_count": 16,
   "metadata": {},
   "outputs": [
    {
     "data": {
      "text/latex": [
       "$\\displaystyle \\left[\\begin{matrix}\\cos{\\left(\\theta_{3} \\right)} & - \\sin{\\left(\\theta_{3} \\right)} & 0 & L_{2}\\\\\\sin{\\left(\\theta_{3} \\right)} & \\cos{\\left(\\theta_{3} \\right)} & 0 & 0\\\\0 & 0 & 1 & 0\\\\0 & 0 & 0 & 1\\end{matrix}\\right]$"
      ],
      "text/plain": [
       "Matrix([\n",
       "[cos(theta3), -sin(theta3), 0, L2],\n",
       "[sin(theta3),  cos(theta3), 0,  0],\n",
       "[          0,            0, 1,  0],\n",
       "[          0,            0, 0,  1]])"
      ]
     },
     "execution_count": 16,
     "metadata": {},
     "output_type": "execute_result"
    }
   ],
   "source": [
    "# Nos espaços abaixo preencha com os dados das matrizes correspondentes aos elos.\n",
    "\n",
    "T23 = sp.Matrix([[sp.cos(theta3), -sp.sin(theta3), 0, L2], [sp.sin(theta3), sp.cos(theta3), 0, 0], [0, 0, 1, 0], [0, 0, 0, 1]])\n",
    "\n",
    "T23"
   ]
  },
  {
   "cell_type": "markdown",
   "metadata": {},
   "source": [
    "Encontre a matriz  $_{3}^{0}\\textrm{T}$ que define o sistema."
   ]
  },
  {
   "cell_type": "code",
   "execution_count": 17,
   "metadata": {},
   "outputs": [
    {
     "ename": "SyntaxError",
     "evalue": "invalid syntax (844687959.py, line 3)",
     "output_type": "error",
     "traceback": [
      "\u001b[0;36m  Input \u001b[0;32mIn [17]\u001b[0;36m\u001b[0m\n\u001b[0;31m    T03 =\u001b[0m\n\u001b[0m         ^\u001b[0m\n\u001b[0;31mSyntaxError\u001b[0m\u001b[0;31m:\u001b[0m invalid syntax\n"
     ]
    }
   ],
   "source": [
    "# Complete com as informações necessárias \n",
    "\n",
    "T03 =\n",
    "\n",
    "#  Simplificação da matriz\n",
    "MATRIZ = sp.Matrix([[T03[0,0].simplify(), T03[0,1].simplify(), 0, sp.trigsimp(T03[0,3].simplify())],\n",
    "                 [T03[1,0].simplify(), T03[1,1].simplify(), 0, sp.trigsimp(T03[1,3].simplify())],\n",
    "                 [T03[2,0].simplify(), T03[2,1].simplify(), 1, 0],\n",
    "                 [0, 0, 0, 1]])\n",
    "\n",
    "MATRIZ\n"
   ]
  },
  {
   "cell_type": "markdown",
   "metadata": {},
   "source": [
    "## Aplicação dos métodos de solução - Solução Geométrica"
   ]
  },
  {
   "cell_type": "markdown",
   "metadata": {},
   "source": [
    "Na abordagem geométrica para encontrar a solução de um manipulador, procuramos decompor a geometria espacial do braço em vários problemas de geometria plana. Para muitos manipuladores (em particular, quando $ \\alpha_i = 0 $ ou $ \\pm90 $), isso consegue ser feito com bastante facilidade. Os ângulos das juntas podem ser resolvidos usando-se as ferramentas da geometria plana. Para o braço com três graus de liberdade mostrado na Figura, como é um braço planar, podemos aplicar a geometria plana diretamente para encontrar uma solução.\n",
    "\n",
    "<center>\n",
    "\n",
    "<img src=\"fig2.png\" alt=\"braco planar\" style=\"height: 250px; width:250px;\"/>\n",
    "\n",
    "</center>"
   ]
  },
  {
   "cell_type": "markdown",
   "metadata": {},
   "source": [
    "### Solução para $ \\theta_2 $"
   ]
  },
  {
   "cell_type": "markdown",
   "metadata": {},
   "source": [
    "A Figura mostra o triângulo formado por $ l_1 $ , $ l_2 $ e a linha que une a origem do sistema de referência {0} com a origem do sistema de referência {3}.\n",
    "\n",
    "<center>\n",
    "\n",
    "<img src=\"fig2.png\" alt=\"braco planar\" style=\"height: 250px; width:250px;\"/>\n",
    "\n",
    "</center>\n",
    "\n",
    "As linhas pontilhadas representam a outra configuração possível do triângulo que levaria à mesma posição do sistema de referência {3}. Considerando o triângulo contínuo, podemos aplicar a “lei dos cossenos” para resolver $ sin(\\theta_2) $ :"
   ]
  },
  {
   "cell_type": "markdown",
   "metadata": {},
   "source": [
    "### Lembrete"
   ]
  },
  {
   "cell_type": "markdown",
   "metadata": {},
   "source": [
    "<center>\n",
    "\n",
    "<img src=\"lembrete.png\" alt=\"braco planar\"/>\n",
    "\n",
    "</center>"
   ]
  },
  {
   "cell_type": "markdown",
   "metadata": {},
   "source": [
    "### Solução"
   ]
  },
  {
   "cell_type": "markdown",
   "metadata": {},
   "source": [
    "Portanto, de acordo com o teorema de Pitagoras temos:\n",
    "\n",
    "$ H² = x² + y²  $\n",
    "\n",
    "E, de acordo com a lei dos cossenos temos:\n",
    "\n",
    "$  H² = L_2² + L_1² -2L_2L_1cos(\\alpha) \\rightarrow \\alpha = 180 - \\theta_2$\n",
    "\n",
    "Igualando as duas equações encontramos:\n",
    "\n",
    "$ x² + y² = L_2² + L_1² -2L_2L_1cos(180 - \\theta_2)  $\n",
    "\n",
    "Agora, $ cos(180 - \\theta_2 ) = -cos(\\theta_2) $, de forma que temos:\n",
    "\n",
    "$ cos(\\theta_2) = \\frac{x² + y² - l_1² - l_2²}{2l_1l_2} $\n",
    "\n",
    "Para que esse triângulo exista, a distância ao ponto alvo deve ser menor ou igual à soma do comprimento dos elos, $ l_1 + l_2 $. Em um algoritmo computacional, essa condição seria verificada neste ponto, para confirmar a existência de soluções. Tal condição não é satisfeita quando o ponto\n",
    "alvo está fora do alcance do manipulador. Presumindo que uma solução existe, essa equação é resolvida por um valor de $ \\theta_2$ que está entre 0 e –180 graus, porque somente para esses valores o triângulo da Figura existe. A outra solução possível (indicada pelo triângulo pontilhado) é encontrada por simetria como $ \\theta_2' = -\\theta_2 $."
   ]
  },
  {
   "cell_type": "markdown",
   "metadata": {},
   "source": [
    "### Solução para $ \\theta_1  $"
   ]
  },
  {
   "cell_type": "markdown",
   "metadata": {},
   "source": [
    "Para resolver $ \\theta_1 $ , encontramos expressões para os ângulos $ \\psi $ e $\\beta $, conforme a Figura.\n",
    "\n",
    "<center>\n",
    "\n",
    "![](https://drive.google.com/uc?export=view&id=1B9vHCX89ki5fZAuy16862m1QOlxgl4Dr)\n",
    "\n",
    "<figcaption>Figura 2 - Braço planar: Notação esquemática simples</figcaption>\n",
    "</center>\n",
    "\n",
    "Então, temos:\n",
    "\n",
    "$ \\theta_1 = \\beta \\pm \\psi $\n",
    "\n",
    "onde o sinal positivo é usado se $ \\theta_2 > 0 $ e o negativo se $ \\theta_2 < 0 $.\n",
    "\n",
    "Primeiro, $ \\beta $ pode estar em qualquer quadrante, dependendo dos sinais de $x$ e $y$ . Portanto, temos de usar um arco tangente de dois argumentos:\n",
    "\n",
    "$ \\beta = Atan2(y, x)  $\n",
    "\n",
    "Aplicamos mais uma vez a lei dos cossenos para encontrar $ \\psi $:\n",
    "\n",
    "$ cos(\\psi) = \\frac{x² + y² + l_1² - l_2²}{2l_1\\sqrt{x² + y²}} $\n",
    "\n",
    "Aqui, o arco cosseno deve ser resolvido de forma que $ 0 ≤ \\psi ≤ 180º$ para que a geometria que leva a equação seja preservada. São considerações típicas quando usamos uma abordagem geo­métrica – temos de aplicar as fórmulas que deduzimos somente em certo âmbito das variáveis, para que a geometria seja preservada. "
   ]
  },
  {
   "cell_type": "markdown",
   "metadata": {},
   "source": [
    "### Solucão para $ \\theta_3 $"
   ]
  },
  {
   "cell_type": "markdown",
   "metadata": {},
   "source": [
    "<center>\n",
    "\n",
    "![](https://drive.google.com/uc?export=view&id=1B2FYyyHJFMoNYkFpYPLcyI0AvX6k8L4X)\n",
    "<figcaption>Figura 1 - Braço planar de três elos</figcaption>\n",
    "</center>\n",
    "\n",
    "Sabemos que os ângulos de um plano se somam, portanto, a soma dos três ângulos de juntas deve ser a orientação do último elo:\n",
    "\n",
    "$ \\theta_3 + \\theta_2 + \\theta_1 = \\phi $\n",
    "\n",
    "Essa equação é resolvida para $ \\theta_3 $ a fim de completar nossa solução.\n",
    "\n",
    "$ \\theta_3 = \\phi - (\\theta_2 + \\theta_1)  $"
   ]
  },
  {
   "cell_type": "markdown",
   "metadata": {},
   "source": [
    "## Resolução de sistemas de equações"
   ]
  },
  {
   "cell_type": "markdown",
   "metadata": {},
   "source": [
    "Exemplo\n",
    "\n",
    "<center>\n",
    "\n",
    "$ x_{1} + 2x_{2} + x_{3} = 3   $ \n",
    "\n",
    "$ 3x_{1} - x_{2} - 3x_{3} = -1 $ \n",
    "\n",
    "$ 2x_{1} + 3x_{2} + x_{3} = 4  $\n",
    "\n",
    "</center>\n",
    "\n",
    "**Solução**\n",
    "\n",
    "Subtraindo 3 vezes a primeira linha da segunda acarreta\n",
    "\n",
    "<center>\n",
    "\n",
    "$ -7x_{2} - 6x_{3} = -10 $\n",
    "\n",
    "</center>\n",
    "\n",
    "Subtraindo 2 vezes a primeira linha da terceira linha acarreta\n",
    "\n",
    "<center>\n",
    "\n",
    "$ -x_{2} - x_{3} = -2 $\n",
    "\n",
    "</center>\n",
    "\n",
    "Se asegunda e a terceira equações de nosso sistema são substituídas respectivamente poressas novas equações, obtemos o sistema equivalente\n",
    "\n",
    "<center>\n",
    "\n",
    "$ x_{1} + 2x_{2} + x_{3} = 3   $ \n",
    "\n",
    "$ -7x_{2} - 6x_{3} = -10 $ \n",
    "\n",
    "$ -x_{2} - x_{3} = -2  $\n",
    "\n",
    "</center>\n",
    "\n",
    "Se a terceira equação desse sistema é substituída pela soma da terceira equação e $-1/7$ vezes a segunda equação, temos finalmente o seguinte sistema estritamente triangular\n",
    "\n",
    "<center>\n",
    "\n",
    "$ x_{1} + 2x_{2} + x_{3} = 3   $ \n",
    "\n",
    "$ -7x_{2} - 6x_{3} = -10 $ \n",
    "\n",
    "$ -1/7x_{3} = -4/7  $\n",
    "\n",
    "</center>\n",
    "\n",
    "Usando a substituição reversa obtemos\n",
    "\n",
    "<center>\n",
    "\n",
    "$ x_{3} = 4 $         $ x_{2} = -2 $       $  x_{1} = 3 $\n",
    "\n",
    "</center>\n",
    "\n",
    "Vejamos novamente o sistema de quações do último exemplo. Podemos associar o sistema a um arranjo 3 x 3 de números cujos elementos são os valores dos $x_{i}$:\n",
    "\n",
    "\n",
    "$$\n",
    "\\left(\\begin{array}{cc} \n",
    "1 & 2 & 1\\\\\n",
    "3 & -1 & -3 \\\\\n",
    "2 & 3 & 1 \n",
    "\\end{array}\\right)\n",
    "$$ \n",
    "\n",
    "Este arranjo é chamado de *matriz de coeficientes* do sistema. Uma matriz contendo *m* linha e *n* colunas é dita *m x n*. Uma matriz é dita quadrada se tem o mesmo número de linhas e colunas - isto é, se *m* = *n*.\n",
    "\n",
    "Se adicionarmos à matriz de coeficientes uma coluna cujos elementos são os números no segundo membro do sistema, obtemos a nova matriz\n",
    "\n",
    "$$\n",
    "\\left(\\begin{array}{cc} \n",
    "1 & 2 & 1 & \\textcolor{red}{3} \\\\\n",
    "3 & -1 & -3 & \\textcolor{red}{-1}\\\\\n",
    "2 & 3 & 1 & \\textcolor{red}{4}\n",
    "\\end{array}\\right)\n",
    "$$ \n",
    "\n",
    "Essa nova matriz é denominada *matriz aumentada*."
   ]
  },
  {
   "cell_type": "markdown",
   "metadata": {},
   "source": [
    "**Operações Elementares sobre Linhas**"
   ]
  },
  {
   "cell_type": "markdown",
   "metadata": {},
   "source": [
    "O sistema pode ser resolvido efetuando-se operações sobre a matriz aumentada. Correspondendo às três operações utilizadas para obter sistemas equivalentes, as seguintes operações sobre linhas podem ser aplicadas à matriz aumentada:\n",
    "\n",
    "> #### Operações \n",
    ">\n",
    "> - Intercambiar duas linhas. (**I**)\n",
    "> - Multiplicar uma linha por um número real diferente de zero. (**II**)\n",
    "> - Substituir uma linha por sua soma a um múltiplo de outra linha. (**III**)"
   ]
  },
  {
   "cell_type": "markdown",
   "metadata": {},
   "source": [
    "#### Forma Estritamente Triangular"
   ]
  },
  {
   "cell_type": "markdown",
   "metadata": {},
   "source": [
    "**Aplicando ao exemplo anterior**"
   ]
  },
  {
   "cell_type": "markdown",
   "metadata": {},
   "source": [
    "Verificamos que a primeira linha é usada para eliminar os elementos da primeira coluna das demais linhas. Chamamos a primeira linha de *linha pivô* Para ênfase, os elementos da linha pivô são apresentados em vermelho.\n",
    "O primeiro elemento não nulo na linha pivô é chamado de *pivô*.\n",
    "\n",
    "- pivô $a_{11} = 1$ \n",
    "- elementos a eliminar $a_{21} = 3$ e $a_{31} = 2$\n",
    "$$\n",
    "\\left(\\begin{array}{cc} \n",
    "\\textcolor{red}{1} & \\textcolor{red}{2} & \\textcolor{red}{1} & \\textcolor{red}{3} \\\\\n",
    "3 & -1 & -3 & -1\\\\\n",
    "2 & 3 & 1 & 4\n",
    "\\end{array}\\right)\n",
    "$$\n",
    "\n",
    "Usando a operação sobre linhas **III**, a primeira linha multiplicada por 3 é subtraída da segunda linha e a primeira linha multiplicada por 2 é subtraída da terceira linha. Quando isto é feito, terminamos com a matriz\n",
    "\n",
    "$$\n",
    "\\left(\\begin{array}{cc} \n",
    "1 & 2 & 1 & 3 \\\\\n",
    "\\textcolor{red}{0} & \\textcolor{red}{-7} & \\textcolor{red}{-6} & \\textcolor{red}{-10}\\\\\n",
    "0 & -1 & -1 & 2\n",
    "\\end{array}\\right)\n",
    "$$\n",
    "\n",
    "Nesse ponto escolhemos a segunda linha como pivô e aplicamos a operação **II** para eliminar o último elemento da segunda coluna. Desta vez o pivô é -7 e o quociente $-1/-7 = 1/7$ é o múltiplo da linha pivô que é subtraído da terceira linha. Finalizamos com a matriz\n",
    "\n",
    "$$\n",
    "\\left(\\begin{array}{cc} \n",
    "1 & 2 & 1 & \\textcolor{red}{3} \\\\\n",
    "0 & -7 & -6 & \\textcolor{red}{-10}\\\\\n",
    "0 & 0 & -1/7 & \\textcolor{red}{-4/7}\n",
    "\\end{array}\\right)\n",
    "$$ \n",
    "\n",
    "Essa é a matriz aumentada para o sistema estritamente triangular, que é equivalente ao sistema original. A solução do sistema é facilmente obtida por substituição reversa."
   ]
  },
  {
   "cell_type": "markdown",
   "metadata": {},
   "source": [
    "##### <span style=\"color:green\">Tarefa 02 </span>"
   ]
  },
  {
   "cell_type": "markdown",
   "metadata": {},
   "source": [
    "Resolver o sistema de equações lineares abaixo\n",
    "\n",
    "<center>\n",
    "\n",
    "$ -x_{2} - x_{3} + x_{4} = 0   $ \n",
    "\n",
    "$ x_{1} + x_{2} + x_{3} + x_{4} = 6 $ \n",
    "\n",
    "$ 2x_{1} + 4x_{2} + x_{3} - 2x_{4} = -1  $\n",
    "\n",
    "$ 3x_{1} + x_{2} - 2x_{3} + 2x_{4} = 3  $\n",
    "\n",
    "</center>"
   ]
  },
  {
   "cell_type": "code",
   "execution_count": null,
   "metadata": {},
   "outputs": [],
   "source": [
    "# Draw interface\n",
    "from tkinter import *\n",
    "from tkinter import ttk, colorchooser\n",
    "from tkinter import filedialog\n",
    "from PIL import ImageTk, Image\n",
    "import tkinter as tk\n",
    "\n",
    "\n",
    "class main:\n",
    "    def __init__(self,master):\n",
    "        self.master = master\n",
    "        self.color_fg = 'black'\n",
    "        self.color_bg = 'white'\n",
    "        self.old_x = None\n",
    "        self.old_y = None\n",
    "        self.penwidth = 5\n",
    "        self.drawWidgets()\n",
    "        self.c.bind('<B1-Motion>',self.paint)#drwaing the line \n",
    "        self.c.bind('<ButtonRelease-1>',self.reset)\n",
    "\n",
    "    def paint(self,e):\n",
    "        if self.old_x and self.old_y:\n",
    "            self.c.create_line(self.old_x,self.old_y,e.x,e.y,width=self.penwidth,fill=self.color_fg,capstyle=ROUND,smooth=True)\n",
    "\n",
    "        self.old_x = e.x\n",
    "        self.old_y = e.y\n",
    "\n",
    "    def reset(self,e):    #reseting or cleaning the canvas \n",
    "        self.old_x = None\n",
    "        self.old_y = None      \n",
    "\n",
    "    def changeW(self,e): #change Width of pen through slider\n",
    "        self.penwidth = e\n",
    "           \n",
    "\n",
    "    def clear(self):\n",
    "        self.c.delete(ALL)\n",
    "\n",
    "    def change_fg(self):  #changing the pen color\n",
    "        self.color_fg=colorchooser.askcolor(color=self.color_fg)[1]\n",
    "\n",
    "    def change_bg(self):  #changing the background color canvas\n",
    "        self.color_bg=colorchooser.askcolor(color=self.color_bg)[1]\n",
    "        self.c['bg'] = self.color_bg\n",
    "\n",
    "    def drawWidgets(self):\n",
    "        self.controls = Frame(self.master,padx = 5,pady = 5)\n",
    "        Label(self.controls, text='Pen Width:',font=('arial 18')).grid(row=0,column=0)\n",
    "        self.slider = ttk.Scale(self.controls,from_= 5, to = 100,command=self.changeW,orient=VERTICAL)\n",
    "        self.slider.set(self.penwidth)\n",
    "        self.slider.grid(row=0,column=1,ipadx=30)\n",
    "        self.controls.pack(side=LEFT)\n",
    "        \n",
    "        self.c = Canvas(self.master,width=500,height=400,bg=self.color_bg,)\n",
    "        self.c.pack(fill=BOTH,expand=True)\n",
    "\n",
    "        menu = Menu(self.master)\n",
    "        self.master.config(menu=menu)\n",
    "        filemenu = Menu(menu)\n",
    "        colormenu = Menu(menu)\n",
    "        menu.add_cascade(label='Colors',menu=colormenu)\n",
    "        colormenu.add_command(label='Brush Color',command=self.change_fg)\n",
    "        colormenu.add_command(label='Background Color',command=self.change_bg)\n",
    "        optionmenu = Menu(menu)\n",
    "        menu.add_cascade(label='Options',menu=optionmenu)\n",
    "        optionmenu.add_command(label='Clear Canvas',command=self.clear)\n",
    "        optionmenu.add_command(label='Exit',command=self.master.destroy) \n",
    "\n",
    "\n",
    "if __name__ == '__main__':\n",
    "    root = Tk()\n",
    "    main(root)\n",
    "    root.title('Application')\n",
    "    # label.place(x=0, y=0)\n",
    "    root.mainloop()"
   ]
  },
  {
   "cell_type": "markdown",
   "metadata": {},
   "source": [
    "#####  <span style=\"color:red\">Resposta </span>"
   ]
  },
  {
   "cell_type": "markdown",
   "metadata": {},
   "source": [
    "$$\n",
    "\\left(\\begin{array}{cc} \n",
    "1 & 1 & 1 & 1 & \\textcolor{red}{6} \\\\\n",
    "0 & -1 & -1 & 1 & \\textcolor{red}{0}\\\\\n",
    "0 & 0 & -3 & -2 & \\textcolor{red}{-13}\\\\\n",
    "0 & 0 & 0 & -1 & \\textcolor{red}{-2}\n",
    "\\end{array}\\right)\n",
    "$$ \n",
    "\n",
    "**Solução:** (2, -1, 3, 2)"
   ]
  },
  {
   "cell_type": "markdown",
   "metadata": {},
   "source": [
    "#### Forma Linha Degrau"
   ]
  },
  {
   "cell_type": "markdown",
   "metadata": {},
   "source": [
    "\n",
    "Uma matriz é dita na forma linha degrau\n",
    "\n",
    "> - Se o primeiro elemento não nulo em cada linha não nula é 1. (**I**)\n",
    "> - Se a linha *k* não consiste inteiramente de zeros, o número de zeros iniciais na kinha *k + 1* é maior que o número de zeros iniciais da linha *k*. (**II**)\n",
    "> - Se há linhas cujos elementos são todos nulos, elas estão abaixo das linhas contendo elementos não nulos. (**III**)\n",
    "\n",
    "\n",
    "O processo de usar as operações sobre linhas **I**, **II**, **III** para transformar um sistema linear em um cuja matriz aumentada está na forma linha degrau é chamado de **eliminação gaussiana**."
   ]
  },
  {
   "cell_type": "markdown",
   "metadata": {},
   "source": [
    "Uma matriz é dita na **forma linha degrau reduzida** se\n",
    "\n",
    "> - A matriz está na forma linha degrau. (**I**)\n",
    "> - O primeiro elemento não nulo em cada linha é o único elemento não nulo em sua coluna. (**II**)"
   ]
  },
  {
   "cell_type": "markdown",
   "metadata": {},
   "source": [
    "##### Exemplo"
   ]
  },
  {
   "cell_type": "markdown",
   "metadata": {},
   "source": [
    "Exemplo\n",
    "\n",
    "Em uma rede elétrica, é possível determinar a intensidade de corrente em cada ramo em elementos das resistências e das tensões. Um exemplo de circuito típico é mostrado abaixo.\n",
    "\n",
    "<center>\n",
    "\n",
    "<img src=\"circuito1.png\" alt=\"braco planar\" style=\"height: 500px; width:500px;\"/>\n",
    "\n",
    "</center>\n",
    "\n",
    "A fonte de tensão é em geral uma bateria (com a tensão medida em volts) que alimenta a carga e produz uma corrente. A corrente flui a partir do terminal da bateria que é representado pela linha mais longa. As resistências são medidas em ohms. As letras representam nós e os *i* representam as correntes entre os nós. As correntes são medidas em ampères. As setas indicam a direção das correntes. Se, no entanto, uma das correntes, por exemplo, $i_{2}$, for negativa, isto significa que a corrente nesse ramo tem a direção inversa à da seta.\n",
    "\n",
    "Para determinar as correntes, são usadas as seguintes regras:\n",
    "\n",
    "**Leis de Kirchhoff**\n",
    "- (1) Em qualquer nó, a soma das correntes entrando é igual à soma das correntes saindo.\n",
    "- (2) Ao longo de qualquer malha fechada, a soma algébrica de todos os ganhos de tensão deve ser igual à soma algèbrica de todas as quedas de tensão.\n",
    "\n",
    "As quedas de tensão *E* para cada resistor são dadas pela *Lei de Ohm*,\n",
    "\n",
    "<center>\n",
    "\n",
    "$ E = iR $\n",
    "\n",
    "</center>\n",
    "\n",
    "onde *i* representa a corrente em ampères e *R* a resistência em ohms.\n",
    "\n",
    "Calculemos as correntes na rede da Figura. Da primeira lei temos\n",
    "\n",
    "<center>\n",
    "\n",
    "$ i_{1} - i_{2} + i_{3} = 0    ->   (nó A)$\n",
    "\n",
    "$ - i_{1} + i_{2} - i_{3} = 0   ->   (nó B)$\n",
    "\n",
    "</center>\n",
    "\n",
    "Pela segunda lei\n",
    "\n",
    "<center>\n",
    "\n",
    "$ 4i_{1} + 2i_{2} = 8     ->   (malha superior) $\n",
    "\n",
    "$ 2i_{2} + 5i_{3} = 9      ->   (malha inferior) $\n",
    "\n",
    "</center>\n",
    "\n",
    "A rede pode ser representada pela matriz aumentada\n",
    "\n",
    "$$\n",
    "\\left(\\begin{array}{cc} \n",
    "1 & -1 & 1 & \\textcolor{red}{0} \\\\\n",
    "-1 & 1 & -1 & \\textcolor{red}{0}\\\\\n",
    "4 & 2 & 0 & \\textcolor{red}{8}\\\\\n",
    "0 & 2 & 5 & \\textcolor{red}{9}\n",
    "\\end{array}\\right)\n",
    "$$ \n",
    "\n",
    "Esta matriz é facilmente reduzida à forma linha degrau\n",
    "\n",
    "\n",
    "$$\n",
    "\\left(\\begin{array}{cc} \n",
    "1 & -1 & 1 & \\textcolor{red}{0} \\\\\n",
    "0 & 1 & -2/3 & \\textcolor{red}{4/3}\\\\\n",
    "0 & 0 & 1 & \\textcolor{red}{1}\\\\\n",
    "0 & 0 & 0 & \\textcolor{red}{0}\n",
    "\\end{array}\\right)\n",
    "$$ \n",
    "\n",
    "Resolvendo por substituição reversa, vemos que $i_{1} = 1$, $i_{2} = 2$ e $i_{3} = 1$.\n"
   ]
  },
  {
   "cell_type": "markdown",
   "metadata": {},
   "source": [
    "##### <span style=\"color:green\">Tarefa 03 </span>"
   ]
  },
  {
   "cell_type": "markdown",
   "metadata": {},
   "source": [
    "Calcule as correntes da rede abaixo.\n",
    "\n",
    "<center>\n",
    "\n",
    "<img src=\"circuito2.png\" alt=\"braco planar\" style=\"height: 500px; width:500px;\"/>\n",
    "\n",
    "</center>"
   ]
  },
  {
   "cell_type": "code",
   "execution_count": null,
   "metadata": {},
   "outputs": [],
   "source": [
    "# Draw interface\n",
    "from tkinter import *\n",
    "from tkinter import ttk, colorchooser\n",
    "from tkinter import filedialog\n",
    "from PIL import ImageTk, Image\n",
    "import tkinter as tk\n",
    "\n",
    "\n",
    "class main:\n",
    "    def __init__(self,master):\n",
    "        self.master = master\n",
    "        self.color_fg = 'black'\n",
    "        self.color_bg = 'white'\n",
    "        self.old_x = None\n",
    "        self.old_y = None\n",
    "        self.penwidth = 5\n",
    "        self.drawWidgets()\n",
    "        self.c.bind('<B1-Motion>',self.paint)#drwaing the line \n",
    "        self.c.bind('<ButtonRelease-1>',self.reset)\n",
    "\n",
    "    def paint(self,e):\n",
    "        if self.old_x and self.old_y:\n",
    "            self.c.create_line(self.old_x,self.old_y,e.x,e.y,width=self.penwidth,fill=self.color_fg,capstyle=ROUND,smooth=True)\n",
    "\n",
    "        self.old_x = e.x\n",
    "        self.old_y = e.y\n",
    "\n",
    "    def reset(self,e):    #reseting or cleaning the canvas \n",
    "        self.old_x = None\n",
    "        self.old_y = None      \n",
    "\n",
    "    def changeW(self,e): #change Width of pen through slider\n",
    "        self.penwidth = e\n",
    "           \n",
    "\n",
    "    def clear(self):\n",
    "        self.c.delete(ALL)\n",
    "\n",
    "    def change_fg(self):  #changing the pen color\n",
    "        self.color_fg=colorchooser.askcolor(color=self.color_fg)[1]\n",
    "\n",
    "    def change_bg(self):  #changing the background color canvas\n",
    "        self.color_bg=colorchooser.askcolor(color=self.color_bg)[1]\n",
    "        self.c['bg'] = self.color_bg\n",
    "\n",
    "    def drawWidgets(self):\n",
    "        self.controls = Frame(self.master,padx = 5,pady = 5)\n",
    "        Label(self.controls, text='Pen Width:',font=('arial 18')).grid(row=0,column=0)\n",
    "        self.slider = ttk.Scale(self.controls,from_= 5, to = 100,command=self.changeW,orient=VERTICAL)\n",
    "        self.slider.set(self.penwidth)\n",
    "        self.slider.grid(row=0,column=1,ipadx=30)\n",
    "        self.controls.pack(side=LEFT)\n",
    "        \n",
    "        self.c = Canvas(self.master,width=500,height=400,bg=self.color_bg,)\n",
    "        self.c.pack(fill=BOTH,expand=True)\n",
    "\n",
    "        menu = Menu(self.master)\n",
    "        self.master.config(menu=menu)\n",
    "        filemenu = Menu(menu)\n",
    "        colormenu = Menu(menu)\n",
    "        menu.add_cascade(label='Colors',menu=colormenu)\n",
    "        colormenu.add_command(label='Brush Color',command=self.change_fg)\n",
    "        colormenu.add_command(label='Background Color',command=self.change_bg)\n",
    "        optionmenu = Menu(menu)\n",
    "        menu.add_cascade(label='Options',menu=optionmenu)\n",
    "        optionmenu.add_command(label='Clear Canvas',command=self.clear)\n",
    "        optionmenu.add_command(label='Exit',command=self.master.destroy) \n",
    "\n",
    "\n",
    "if __name__ == '__main__':\n",
    "    root = Tk()\n",
    "    main(root)\n",
    "    root.title('Application')\n",
    "    # label.place(x=0, y=0)\n",
    "    root.mainloop()"
   ]
  },
  {
   "cell_type": "markdown",
   "metadata": {},
   "source": [
    "#####  <span style=\"color:red\">Resposta </span>"
   ]
  },
  {
   "cell_type": "markdown",
   "metadata": {},
   "source": [
    "**Solução:** (5, 3, -2)"
   ]
  },
  {
   "cell_type": "markdown",
   "metadata": {},
   "source": [
    "##### <span style=\"color:green\">Tarefa 04 </span>"
   ]
  },
  {
   "cell_type": "markdown",
   "metadata": {},
   "source": [
    "**Redes e Grafos**\n",
    "\n",
    "A teoria dos grafos é uma importante área na matemática aplicada. É usada para modelar problemas em virtualmente todas as ciências aplicadas. A teoria dos grafos é particularmente útil em aplicações envolvendo redes de comunicações.\n",
    "\n",
    "Um *grafo* é definido como um conjunto de pontos chamados de vértices, juntamente com um conjunto de pares não ordenados de vértices chamados de arestas. A figura abaixo dá uma interpretação geométrica de um grafo. Podemos considerar os vértices como correspondendo aos nós de uma rede de comunicações.\n",
    "\n",
    "Os segmentos de reta unindo os vértices correspondem às arestas.\n",
    "\n",
    "<center>\n",
    "\n",
    "$ \\{V_{1}, V_{2}\\}, \\{V_{2}, V_{5}\\}, \\{V_{3}, V_{4}\\}, \\{V_{3}, V_{5}\\}, \\{V_{4}, V_{5}\\} $\n",
    "\n",
    "</center>\n",
    "\n",
    "Cada aresta representa um elo direto  de comunicação entre dois nós da rede.\n",
    "\n",
    "Uma rede de comunicações real pode envolver um grande número de vértices e arestas. Na verdade, há milhões de vértices. Uma fugura da rede seria profundamente confusa. Uma alternativa é utilizar uma representação matricial para a rede. Se o grafo contém um total de *n* vértices, podemos definir uma matriz A, *n X n*, por\n",
    "\n",
    "<center>\n",
    "\n",
    "$a_{ij} = \\{ 1 \\  -> se \\  \\{V_{i}, V_{j}\\} \\ é \\ uma \\ aresta \\ do \\ grafo $\n",
    "\n",
    "$a_{ij} = \\{ 0  \\ -> se \\ não, há \\ aresta \\ unindo \\  V_{i} \\ e \\ V_{j} $ \n",
    "\n",
    "</center>\n",
    "\n",
    "<center>\n",
    "\n",
    "<img src=\"grafo.png\" alt=\"grafo\" style=\"height: 300px; width:300px;\"/>\n",
    "\n",
    "</center>\n",
    "\n",
    "\n",
    "\n",
    "Qual a representação matricial da rede ?\n",
    "\n"
   ]
  },
  {
   "cell_type": "markdown",
   "metadata": {},
   "source": [
    "#####  <span style=\"color:red\">Resolução </span>"
   ]
  },
  {
   "cell_type": "markdown",
   "metadata": {},
   "source": [
    "A matriz que representa está rede é chamada de matriz de *adjacência* do grafo. Note-se que a matriz é simétrica. Na verdade, toda a matriz de adjacência deve ser simétrica, pois se $\\{V_{i}, V_{j}\\} é uma aresta do grafo, então $ a_{ij} = a_{ji} = 1$ e $a_{ij} = a_{ji} = 0$ se não há arestas juntando $V_{i}$ e $V_{j}$. Em qualquer caso $a_{ij} = a_{ji}$.\n",
    "\n",
    "Podemos pensar em um caminho no grafo como uma sequência de arestas unindo um vértice a outro. Por exemplo, na figura acima, as arestas $\\{V_{1}, V_{2}\\}$, $\\{V_{2}, V_{5}\\}$ representam um caminho entre o vértice $V_{1}$ e o vértice $V_{5}$. O comprimento do caminho é dito ser 2, já que consiste em duas arestas. Um modo simples de descrever o caminho é indicar o movimento entre vértices por setas. Então, $V_{1} -> V_{2} -> V_{5}$ designa um caminho de comprimento 2 de $V_{1}$ a $V_{5}$. Similarmente, $V_{4} -> V_{5} -> V_{2} -> V_{1}$ representa um caminho de comprimento 3 de $V_{4}$ a $V_{1}$. É possível atravessar as mesmas arestas mais de uma vez no caminho. Por exemplo, $V_{5} -> V_{3} -> V_{5} -> V_{3}$ é um caminho de comprimento 3 entre $V_{5}$ e $V_{3}$. Em geral, calculando-se potências da matriz de adjacência, podemos determinar o número de caminhos de qualquer comprimento especificado entre dois vértices."
   ]
  },
  {
   "cell_type": "markdown",
   "metadata": {},
   "source": [
    "## Mínimos Quadrados"
   ]
  },
  {
   "cell_type": "markdown",
   "metadata": {},
   "source": [
    "##### Exemplo"
   ]
  },
  {
   "cell_type": "markdown",
   "metadata": {},
   "source": [
    "\n",
    "Encontre a solução de mínimos quadrados do sistema\n",
    "\n",
    "<center>\n",
    "\n",
    "$ x_{1} + x_{2}  = 3   $ \n",
    "\n",
    "$ -2x_{1} + 3x_{2} = 1 $ \n",
    "\n",
    "$ 2x_{1} - x_{2}  = 2  $\n",
    "\n",
    "</center>\n",
    "\n",
    "**Solução**\n",
    "\n",
    "As equações normais para este sistema são\n",
    "\n",
    "$$\n",
    "\\left(\\begin{array}{cc} \n",
    "1 & -2 & 2\\\\\n",
    "1 & 3 & -1\n",
    "\\end{array}\\right)\n",
    "\\left(\\begin{array}{cc} \n",
    "1 & 1 \\\\\n",
    "-2 & 3 \\\\\n",
    "2 & -1\n",
    "\\end{array}\\right)\n",
    "\\left(\\begin{array}{cc} \n",
    "x_{1} \\\\\n",
    "x_{2} \n",
    "\\end{array}\\right)\n",
    "\n",
    "=\n",
    "\n",
    "\\left(\\begin{array}{cc} \n",
    "1 & -2 & 2\\\\\n",
    "1 & 3 & -1\n",
    "\\end{array}\\right)\n",
    "\\left(\\begin{array}{cc} \n",
    "3  \\\\\n",
    "1 \\\\\n",
    "2 \n",
    "\\end{array}\\right)\n",
    "$$\n",
    "\n",
    "Isto é simplificado para o sistema 2 X 2\n",
    "\n",
    "$$\n",
    "\\left(\\begin{array}{cc} \n",
    "9 & -7 \\\\\n",
    "-7 & 11 \n",
    "\\end{array}\\right)\n",
    "\\left(\\begin{array}{cc} \n",
    "x_{1} \\\\\n",
    "x_{2} \n",
    "\\end{array}\\right)\n",
    "\n",
    "=\n",
    "\n",
    "\\left(\\begin{array}{cc} \n",
    "5  \\\\\n",
    "4 \n",
    "\\end{array}\\right)\n",
    "$$\n",
    "\n",
    "A solução para o sistema 2 X 2 é $(83/50, 71/50)^T$."
   ]
  },
  {
   "cell_type": "markdown",
   "metadata": {},
   "source": [
    "##### <span style=\"color:green\">Tarefa 05 </span>"
   ]
  },
  {
   "cell_type": "markdown",
   "metadata": {},
   "source": [
    "**Constantes de Mola**\n",
    "\n",
    "A lei de *Hooke* afirma que a força aplicada a uma mola é proporcional à distância a que a mola é esticada. Então, se *F* é a força aplicada e *x* é a distância a que a mola foi esticada, então $F = kx$. A constante de proporcionalidade *k* é chamadad de *constante de mola*.\n",
    "\n",
    "Alguns alunos de física querem determinar a constante de mola para uma determinada mola. Eles aplicam forças de 3, 5 e 8 libras, que tem o efeito de esticar a mola em 4, 7 e 11 polegadas, respectivamente. Usando a lei de *Hooke*, eles derivam o seguinte sistema de equações:\n",
    "\n",
    "<center>\n",
    "\n",
    "$ 4k  = 3  $ \n",
    "\n",
    "$ 7k = 5   $ \n",
    "\n",
    "$ 11k  = 8 $\n",
    "\n",
    "</center>\n",
    "\n",
    "O sistema é claramente incosistente, já que cada equação fornece um valor diferente para *k*. Em vez de usar qualquer um desses valores, os alunos decidem calcular a solução de mínimos quadrados do sistema.\n",
    "\n",
    "Qual o valor encontrado para a constante *k* ?\n"
   ]
  }
 ],
 "metadata": {
  "interpreter": {
   "hash": "916dbcbb3f70747c44a77c7bcd40155683ae19c65e1c03b4aa3499c5328201f1"
  },
  "kernelspec": {
   "display_name": "Python 3.8.10 64-bit",
   "language": "python",
   "name": "python3"
  },
  "language_info": {
   "codemirror_mode": {
    "name": "ipython",
    "version": 3
   },
   "file_extension": ".py",
   "mimetype": "text/x-python",
   "name": "python",
   "nbconvert_exporter": "python",
   "pygments_lexer": "ipython3",
   "version": "3.8.10"
  },
  "orig_nbformat": 4
 },
 "nbformat": 4,
 "nbformat_minor": 2
}
